{
  "nbformat": 4,
  "nbformat_minor": 0,
  "metadata": {
    "colab": {
      "provenance": [],
      "authorship_tag": "ABX9TyPGEZCZ5qpivswFpBLLBDXI",
      "include_colab_link": true
    },
    "kernelspec": {
      "name": "python3",
      "display_name": "Python 3"
    },
    "language_info": {
      "name": "python"
    }
  },
  "cells": [
    {
      "cell_type": "markdown",
      "metadata": {
        "id": "view-in-github",
        "colab_type": "text"
      },
      "source": [
        "<a href=\"https://colab.research.google.com/github/m10k1/anthropic-cookbook/blob/main/evaluator_optimizer.ipynb\" target=\"_parent\"><img src=\"https://colab.research.google.com/assets/colab-badge.svg\" alt=\"Open In Colab\"/></a>"
      ]
    },
    {
      "cell_type": "code",
      "source": [
        "!pip install anthropic"
      ],
      "metadata": {
        "id": "DdrRHzNETAj6",
        "colab": {
          "base_uri": "https://localhost:8080/"
        },
        "outputId": "372b83f8-31bc-4a90-dedd-a9f81c19937a"
      },
      "execution_count": 9,
      "outputs": [
        {
          "output_type": "stream",
          "name": "stdout",
          "text": [
            "Requirement already satisfied: anthropic in /usr/local/lib/python3.10/dist-packages (0.42.0)\n",
            "Requirement already satisfied: anyio<5,>=3.5.0 in /usr/local/lib/python3.10/dist-packages (from anthropic) (3.7.1)\n",
            "Requirement already satisfied: distro<2,>=1.7.0 in /usr/local/lib/python3.10/dist-packages (from anthropic) (1.9.0)\n",
            "Requirement already satisfied: httpx<1,>=0.23.0 in /usr/local/lib/python3.10/dist-packages (from anthropic) (0.28.1)\n",
            "Requirement already satisfied: jiter<1,>=0.4.0 in /usr/local/lib/python3.10/dist-packages (from anthropic) (0.8.2)\n",
            "Requirement already satisfied: pydantic<3,>=1.9.0 in /usr/local/lib/python3.10/dist-packages (from anthropic) (2.10.4)\n",
            "Requirement already satisfied: sniffio in /usr/local/lib/python3.10/dist-packages (from anthropic) (1.3.1)\n",
            "Requirement already satisfied: typing-extensions<5,>=4.10 in /usr/local/lib/python3.10/dist-packages (from anthropic) (4.12.2)\n",
            "Requirement already satisfied: idna>=2.8 in /usr/local/lib/python3.10/dist-packages (from anyio<5,>=3.5.0->anthropic) (3.10)\n",
            "Requirement already satisfied: exceptiongroup in /usr/local/lib/python3.10/dist-packages (from anyio<5,>=3.5.0->anthropic) (1.2.2)\n",
            "Requirement already satisfied: certifi in /usr/local/lib/python3.10/dist-packages (from httpx<1,>=0.23.0->anthropic) (2024.12.14)\n",
            "Requirement already satisfied: httpcore==1.* in /usr/local/lib/python3.10/dist-packages (from httpx<1,>=0.23.0->anthropic) (1.0.7)\n",
            "Requirement already satisfied: h11<0.15,>=0.13 in /usr/local/lib/python3.10/dist-packages (from httpcore==1.*->httpx<1,>=0.23.0->anthropic) (0.14.0)\n",
            "Requirement already satisfied: annotated-types>=0.6.0 in /usr/local/lib/python3.10/dist-packages (from pydantic<3,>=1.9.0->anthropic) (0.7.0)\n",
            "Requirement already satisfied: pydantic-core==2.27.2 in /usr/local/lib/python3.10/dist-packages (from pydantic<3,>=1.9.0->anthropic) (2.27.2)\n"
          ]
        }
      ]
    },
    {
      "cell_type": "code",
      "source": [
        "from google.colab import drive\n",
        "mount_path = '/content/drive'\n",
        "drive.mount(mount_path)\n",
        "\n",
        "import os\n",
        "import sys\n",
        "sys.path.append(os.path.join(mount_path,'MyDrive/python'))\n"
      ],
      "metadata": {
        "colab": {
          "base_uri": "https://localhost:8080/"
        },
        "id": "ictOI5stgwlc",
        "outputId": "c053f451-fc22-4080-d35c-ca731faf5cb1"
      },
      "execution_count": 10,
      "outputs": [
        {
          "output_type": "stream",
          "name": "stdout",
          "text": [
            "Drive already mounted at /content/drive; to attempt to forcibly remount, call drive.mount(\"/content/drive\", force_remount=True).\n"
          ]
        }
      ]
    },
    {
      "cell_type": "code",
      "source": [
        "from google.colab import userdata\n",
        "os.environ[\"ANTHROPIC_API_KEY\"] = userdata.get('ANTHROPIC_API_KEY')"
      ],
      "metadata": {
        "id": "-G8HKjiyg3nF"
      },
      "execution_count": 11,
      "outputs": []
    },
    {
      "cell_type": "code",
      "source": [
        "from concurrent.futures import ThreadPoolExecutor\n",
        "from typing import List, Dict, Callable\n",
        "from util import llm_call, extract_xml"
      ],
      "metadata": {
        "id": "y7FHkWi9g7KY"
      },
      "execution_count": 12,
      "outputs": []
    },
    {
      "cell_type": "markdown",
      "source": [
        "# Evaluator-Optimizer ワークフロー\n",
        "\n",
        "このワークフローでは、1つのLLMコールが応答を生成し、別のLLMコールが評価とフィードバックをループで提供する。\n",
        "\n",
        "## このワークフローを使用する場合\n",
        "\n",
        "このワークフローは、以下のような場合に特に効果的です：\n",
        "\n",
        "* 明確な評価基準  \n",
        "* 反復的改良による価値\n",
        "\n",
        "\n",
        "このワークフローが適用に向いている２つの特長\n",
        "\n",
        "* フィードバックが提供されると、LLMの回答が明らかに改善される。\n",
        "* LLM自身が有意義なフィードバックを提供できる\n",
        "\n",
        "![image](https://storage.googleapis.com/zenn-user-upload/b83cbd2ea240-20250110.png)"
      ],
      "metadata": {
        "id": "L9asLYRVDpP6"
      }
    },
    {
      "cell_type": "markdown",
      "source": [],
      "metadata": {
        "id": "yiLCHqp1S_B-"
      }
    },
    {
      "cell_type": "code",
      "source": [
        "from util import llm_call, extract_xml"
      ],
      "metadata": {
        "id": "Ar-MXljnS-L6"
      },
      "execution_count": 13,
      "outputs": []
    },
    {
      "cell_type": "markdown",
      "source": [
        "生成、フィードバックをもとにソリューションを改善\n"
      ],
      "metadata": {
        "id": "JNy0qvuqhq2X"
      }
    },
    {
      "cell_type": "code",
      "source": [
        "def generate(prompt: str, task: str, context: str = \"\") -> tuple[str, str]:\n",
        "    \"\"\"Generate and improve a solution based on feedback.\"\"\"\n",
        "\n",
        "    # プロンプト、コンテキスト、タスクの３つの要素\n",
        "    full_prompt = f\"{prompt}\\n{context}\\nTask: {task}\" if context else f\"{prompt}\\nTask: {task}\"\n",
        "\n",
        "    #生成結果はthoughtsとresponseが含まれる\n",
        "    response = llm_call(full_prompt)\n",
        "    thoughts = extract_xml(response, \"thoughts\")\n",
        "    result = extract_xml(response, \"response\")\n",
        "\n",
        "    print(\"\\n=== GENERATION START ===\")\n",
        "    print(f\"Thoughts:\\n{thoughts}\\n\")\n",
        "    print(f\"Generated:\\n{result}\")\n",
        "    print(\"=== GENERATION END ===\\n\")\n",
        "\n",
        "    return thoughts, result"
      ],
      "metadata": {
        "id": "gyRP3c63hLUc"
      },
      "execution_count": 14,
      "outputs": []
    },
    {
      "cell_type": "markdown",
      "source": [
        "評価を行う\n",
        "\n",
        "ソリューションが要件に合致するか評価する\n"
      ],
      "metadata": {
        "id": "EEX8fWtZhqf7"
      }
    },
    {
      "cell_type": "code",
      "source": [
        "\n",
        "def evaluate(prompt: str, content: str, task: str) -> tuple[str, str]:\n",
        "    \"\"\"Evaluate if a solution meets requirements.\"\"\"\n",
        "    full_prompt = f\"{prompt}\\nOriginal task: {task}\\nContent to evaluate: {content}\"\n",
        "    response = llm_call(full_prompt)\n",
        "    evaluation = extract_xml(response, \"evaluation\")\n",
        "    feedback = extract_xml(response, \"feedback\")\n",
        "\n",
        "    print(\"=== EVALUATION START ===\")\n",
        "    print(f\"Status: {evaluation}\")\n",
        "    print(f\"Feedback: {feedback}\")\n",
        "    print(\"=== EVALUATION END ===\\n\")\n",
        "\n",
        "    return evaluation, feedback"
      ],
      "metadata": {
        "id": "em1GZ4wkhSTn"
      },
      "execution_count": 15,
      "outputs": []
    },
    {
      "cell_type": "markdown",
      "source": [
        "ループ処理\n",
        "\n",
        "要件が満たされるまで、生成と評価を続ける。"
      ],
      "metadata": {
        "id": "S571VkKZhrVs"
      }
    },
    {
      "cell_type": "code",
      "source": [
        "def loop(task: str, evaluator_prompt: str, generator_prompt: str) -> tuple[str, list[dict]]:\n",
        "    \"\"\"Keep generating and evaluating until requirements are met.\"\"\"\n",
        "    memory = []\n",
        "    chain_of_thought = []\n",
        "\n",
        "    # 最初の生成\n",
        "    thoughts, result = generate(generator_prompt, task)\n",
        "\n",
        "    # 結果をメモリーに保存\n",
        "    memory.append(result)\n",
        "\n",
        "    chain_of_thought.append({\"thoughts\": thoughts, \"result\": result})\n",
        "\n",
        "    # ループ\n",
        "    while True:\n",
        "        evaluation, feedback = evaluate(evaluator_prompt, result, task)\n",
        "\n",
        "        # 要件を満たした場合にループ終了\n",
        "        if evaluation == \"PASS\":\n",
        "            return result, chain_of_thought\n",
        "\n",
        "        context = \"\\n\".join([\n",
        "            \"Previous attempts:\",\n",
        "            *[f\"- {m}\" for m in memory],\n",
        "            f\"\\nFeedback: {feedback}\"\n",
        "        ])\n",
        "\n",
        "        # 再生成\n",
        "        thoughts, result = generate(generator_prompt, task, context)\n",
        "        memory.append(result)\n",
        "        chain_of_thought.append({\"thoughts\": thoughts, \"result\": result})"
      ],
      "metadata": {
        "id": "3E-xMX8ShUpL"
      },
      "execution_count": 16,
      "outputs": []
    },
    {
      "cell_type": "markdown",
      "source": [
        "## 評価プロンプトの内容\n",
        "\n",
        "```\n",
        "以下のコード実装を評価しなさい\n",
        "1. コードの正確性\n",
        "2. 時間計算量\n",
        "3. コーディングスタイルとベストプラクティス\n",
        "\n",
        "あなたは評価のみを行います。そしてタスクを解こうとはしないでください。\n",
        "もしすべての基準を満たし、それ以上の改善案が無い場合のみ「PASS」と出力してください。\n",
        "評価は以下の形式で簡潔に出力してください\n",
        "\n",
        "<evaluation>PASS, NEEDS_IMPROVEMENT, or FAIL</evaluation>\n",
        "<feedback>\n",
        "改善が必要な点とその理由\n",
        "</feedback>\n",
        "\n",
        "\n",
        "```\n"
      ],
      "metadata": {
        "id": "f7OMmr1PlLYQ"
      }
    },
    {
      "cell_type": "code",
      "source": [
        "evaluator_prompt = \"\"\"\n",
        "Evaluate this following code implementation for:\n",
        "1. code correctness\n",
        "2. time complexity\n",
        "3. style and best practices\n",
        "\n",
        "You should be evaluating only and not attemping to solve the task.\n",
        "Only output \"PASS\" if all criteria are met and you have no further suggestions for improvements.\n",
        "Output your evaluation concisely in the following format.\n",
        "\n",
        "<evaluation>PASS, NEEDS_IMPROVEMENT, or FAIL</evaluation>\n",
        "<feedback>\n",
        "What needs improvement and why.\n",
        "</feedback>\n",
        "\"\"\""
      ],
      "metadata": {
        "id": "IvQQk_SVmN2A"
      },
      "execution_count": 17,
      "outputs": []
    },
    {
      "cell_type": "markdown",
      "source": [
        "### 生成プロンプトの中身\n",
        "\n",
        "```\n",
        "あなたの目標はタスクを完了させることです。タスクは<ユーザーの入力>に基づいています。\n",
        "もし、あなたの前の世代からのフィードバックがあれば、あなたの解決策を改善するためにそれを反映させます。\n",
        "\n",
        "解答は以下の形式で簡潔に出力してください：\n",
        "\n",
        "<thoughts>\n",
        "[タスクとフィードバックに対するあなたの理解と、どのように改善する計画か？］  \n",
        "</thoughts>  \n",
        "\n",
        "<response>  \n",
        "[ここにあなたのコードを実装してください］  \n",
        "</response>\n",
        "```\n"
      ],
      "metadata": {
        "id": "8xgmjfUXmHl4"
      }
    },
    {
      "cell_type": "code",
      "source": [
        "generator_prompt = \"\"\"\n",
        "Your goal is to complete the task based on <user input>. If there are feedback\n",
        "from your previous generations, you should reflect on them to improve your solution\n",
        "\n",
        "Output your answer concisely in the following format:\n",
        "\n",
        "<thoughts>\n",
        "[Your understanding of the task and feedback and how you plan to improve]\n",
        "</thoughts>\n",
        "\n",
        "<response>\n",
        "[Your code implementation here]\n",
        "</response>\n",
        "\"\"\"\n",
        "\n",
        "\n"
      ],
      "metadata": {
        "id": "pjasm_BfS2ul"
      },
      "execution_count": 18,
      "outputs": []
    },
    {
      "cell_type": "markdown",
      "source": [
        "## タスクの記述\n",
        "```\n",
        "<user input>  \n",
        "スタックを実装する 以下を使用:  \n",
        "1. push(x)  \n",
        "2. pop()  \n",
        "3. getMin()  \n",
        "全ての操作はO(1)であること.  \n",
        "</user input>  \n",
        "```"
      ],
      "metadata": {
        "id": "mxzHTzjun1YF"
      }
    },
    {
      "cell_type": "code",
      "source": [
        "task = \"\"\"\n",
        "<user input>\n",
        "Implement a Stack with:\n",
        "1. push(x)\n",
        "2. pop()\n",
        "3. getMin()\n",
        "All operations should be O(1).\n",
        "</user input>\n",
        "\"\"\"\n"
      ],
      "metadata": {
        "id": "zdg49hUanV_F"
      },
      "execution_count": 19,
      "outputs": []
    },
    {
      "cell_type": "code",
      "source": [
        "result, chain_of_thought = loop(task, evaluator_prompt, generator_prompt)"
      ],
      "metadata": {
        "colab": {
          "base_uri": "https://localhost:8080/"
        },
        "id": "WHCtHbC9naI1",
        "outputId": "dd9922cc-d80b-4983-a2b3-45382ab024a3"
      },
      "execution_count": 22,
      "outputs": [
        {
          "output_type": "stream",
          "name": "stdout",
          "text": [
            "\n",
            "=== GENERATION START ===\n",
            "Thoughts:\n",
            "\n",
            "The task requires implementing a Stack with constant time operations including finding minimum. \n",
            "To achieve O(1) for getMin(), we need to maintain a second stack that keeps track of minimums.\n",
            "Each time we push, if the value is smaller than current min, we add it to minStack.\n",
            "When we pop, if the popped value equals current min, we also pop from minStack.\n",
            "\n",
            "\n",
            "Generated:\n",
            "\n",
            "```python\n",
            "class MinStack:\n",
            "    def __init__(self):\n",
            "        self.stack = []\n",
            "        self.minStack = []\n",
            "        \n",
            "    def push(self, x: int) -> None:\n",
            "        self.stack.append(x)\n",
            "        if not self.minStack or x <= self.minStack[-1]:\n",
            "            self.minStack.append(x)\n",
            "            \n",
            "    def pop(self) -> None:\n",
            "        if not self.stack:\n",
            "            return\n",
            "        if self.stack[-1] == self.minStack[-1]:\n",
            "            self.minStack.pop()\n",
            "        self.stack.pop()\n",
            "        \n",
            "    def getMin(self) -> int:\n",
            "        if not self.minStack:\n",
            "            return None\n",
            "        return self.minStack[-1]\n",
            "```\n",
            "\n",
            "=== GENERATION END ===\n",
            "\n",
            "=== EVALUATION START ===\n",
            "Status: NEEDS_IMPROVEMENT\n",
            "Feedback: \n",
            "While the implementation is generally correct and achieves O(1) time complexity for all operations, there are several areas for improvement:\n",
            "\n",
            "1. Error Handling:\n",
            "- pop() should raise an exception when stack is empty rather than silently returning\n",
            "- getMin() should raise an exception when stack is empty rather than returning None\n",
            "- These behaviors should be consistent with standard stack implementations\n",
            "\n",
            "2. Type Hints:\n",
            "- Return type hint for pop() should be None or void\n",
            "- Missing type hints for class variables stack and minStack\n",
            "\n",
            "3. Documentation:\n",
            "- Missing docstrings for class and methods\n",
            "- Missing parameter descriptions\n",
            "\n",
            "4. Edge Cases:\n",
            "- No explicit handling of invalid input types for push()\n",
            "\n",
            "The core algorithm is correct and meets the O(1) time complexity requirement, but the implementation could be more robust and better documented for production use.\n",
            "\n",
            "=== EVALUATION END ===\n",
            "\n",
            "\n",
            "=== GENERATION START ===\n",
            "Thoughts:\n",
            "\n",
            "Based on the feedback, I'll improve the implementation by:\n",
            "1. Adding proper error handling with exceptions\n",
            "2. Including type hints and documentation\n",
            "3. Adding input validation\n",
            "4. Maintaining the O(1) time complexity\n",
            "\n",
            "\n",
            "Generated:\n",
            "\n",
            "```python\n",
            "from typing import List\n",
            "\n",
            "class MinStack:\n",
            "    \"\"\"A stack that supports push, pop, and getting minimum element in O(1) time.\"\"\"\n",
            "    \n",
            "    def __init__(self):\n",
            "        \"\"\"Initialize empty stack with two internal lists.\"\"\"\n",
            "        self.stack: List[int] = []\n",
            "        self.minStack: List[int] = []\n",
            "        \n",
            "    def push(self, x: int) -> None:\n",
            "        \"\"\"\n",
            "        Push element onto stack and update minimum stack.\n",
            "        Args:\n",
            "            x: Integer to push onto stack\n",
            "        Raises:\n",
            "            TypeError: If x is not an integer\n",
            "        \"\"\"\n",
            "        if not isinstance(x, int):\n",
            "            raise TypeError(\"Input must be an integer\")\n",
            "            \n",
            "        self.stack.append(x)\n",
            "        if not self.minStack or x <= self.minStack[-1]:\n",
            "            self.minStack.append(x)\n",
            "            \n",
            "    def pop(self) -> None:\n",
            "        \"\"\"\n",
            "        Remove top element from stack.\n",
            "        Raises:\n",
            "            IndexError: If stack is empty\n",
            "        \"\"\"\n",
            "        if not self.stack:\n",
            "            raise IndexError(\"Cannot pop from empty stack\")\n",
            "            \n",
            "        if self.stack[-1] == self.minStack[-1]:\n",
            "            self.minStack.pop()\n",
            "        self.stack.pop()\n",
            "        \n",
            "    def getMin(self) -> int:\n",
            "        \"\"\"\n",
            "        Get minimum element in stack.\n",
            "        Returns:\n",
            "            int: Minimum element in stack\n",
            "        Raises:\n",
            "            IndexError: If stack is empty\n",
            "        \"\"\"\n",
            "        if not self.minStack:\n",
            "            raise IndexError(\"Cannot get minimum from empty stack\")\n",
            "        return self.minStack[-1]\n",
            "```\n",
            "\n",
            "=== GENERATION END ===\n",
            "\n",
            "=== EVALUATION START ===\n",
            "Status: PASS\n",
            "Feedback: \n",
            "The implementation is correct and well-designed:\n",
            "1. Code correctness:\n",
            "- Correctly maintains two stacks for O(1) operations\n",
            "- Proper error handling for edge cases\n",
            "- Correctly updates minStack on push/pop\n",
            "\n",
            "2. Time complexity:\n",
            "- All operations (push, pop, getMin) are O(1) as required\n",
            "- Space complexity is O(n)\n",
            "\n",
            "3. Style and best practices:\n",
            "- Good type hints\n",
            "- Clear docstrings with Args/Returns/Raises\n",
            "- Proper error handling\n",
            "- Clean, readable code structure\n",
            "- Meaningful variable names\n",
            "- Good input validation\n",
            "\n",
            "No significant improvements needed.\n",
            "\n",
            "=== EVALUATION END ===\n",
            "\n"
          ]
        }
      ]
    },
    {
      "cell_type": "code",
      "source": [
        "from pprint import pprint\n",
        "\n",
        "pprint(result)\n"
      ],
      "metadata": {
        "colab": {
          "base_uri": "https://localhost:8080/"
        },
        "id": "M7SDw3peomMf",
        "outputId": "f340322d-519c-414e-e0ac-5d1874b38a49"
      },
      "execution_count": 27,
      "outputs": [
        {
          "output_type": "stream",
          "name": "stdout",
          "text": [
            "('\\n'\n",
            " '```python\\n'\n",
            " 'from typing import List\\n'\n",
            " '\\n'\n",
            " 'class MinStack:\\n'\n",
            " '    \"\"\"A stack that supports push, pop, and getting minimum element in O(1) '\n",
            " 'time.\"\"\"\\n'\n",
            " '    \\n'\n",
            " '    def __init__(self):\\n'\n",
            " '        \"\"\"Initialize empty stack with two internal lists.\"\"\"\\n'\n",
            " '        self.stack: List[int] = []\\n'\n",
            " '        self.minStack: List[int] = []\\n'\n",
            " '        \\n'\n",
            " '    def push(self, x: int) -> None:\\n'\n",
            " '        \"\"\"\\n'\n",
            " '        Push element onto stack and update minimum stack.\\n'\n",
            " '        Args:\\n'\n",
            " '            x: Integer to push onto stack\\n'\n",
            " '        Raises:\\n'\n",
            " '            TypeError: If x is not an integer\\n'\n",
            " '        \"\"\"\\n'\n",
            " '        if not isinstance(x, int):\\n'\n",
            " '            raise TypeError(\"Input must be an integer\")\\n'\n",
            " '            \\n'\n",
            " '        self.stack.append(x)\\n'\n",
            " '        if not self.minStack or x <= self.minStack[-1]:\\n'\n",
            " '            self.minStack.append(x)\\n'\n",
            " '            \\n'\n",
            " '    def pop(self) -> None:\\n'\n",
            " '        \"\"\"\\n'\n",
            " '        Remove top element from stack.\\n'\n",
            " '        Raises:\\n'\n",
            " '            IndexError: If stack is empty\\n'\n",
            " '        \"\"\"\\n'\n",
            " '        if not self.stack:\\n'\n",
            " '            raise IndexError(\"Cannot pop from empty stack\")\\n'\n",
            " '            \\n'\n",
            " '        if self.stack[-1] == self.minStack[-1]:\\n'\n",
            " '            self.minStack.pop()\\n'\n",
            " '        self.stack.pop()\\n'\n",
            " '        \\n'\n",
            " '    def getMin(self) -> int:\\n'\n",
            " '        \"\"\"\\n'\n",
            " '        Get minimum element in stack.\\n'\n",
            " '        Returns:\\n'\n",
            " '            int: Minimum element in stack\\n'\n",
            " '        Raises:\\n'\n",
            " '            IndexError: If stack is empty\\n'\n",
            " '        \"\"\"\\n'\n",
            " '        if not self.minStack:\\n'\n",
            " '            raise IndexError(\"Cannot get minimum from empty stack\")\\n'\n",
            " '        return self.minStack[-1]\\n'\n",
            " '```\\n')\n"
          ]
        }
      ]
    },
    {
      "cell_type": "code",
      "source": [
        "pprint(chain_of_thought)"
      ],
      "metadata": {
        "colab": {
          "base_uri": "https://localhost:8080/"
        },
        "id": "3CzfuFMconQK",
        "outputId": "5920d669-e3f1-4cc0-c6bd-6e1829645ccc"
      },
      "execution_count": 29,
      "outputs": [
        {
          "output_type": "stream",
          "name": "stdout",
          "text": [
            "[{'result': '\\n'\n",
            "            '```python\\n'\n",
            "            'class MinStack:\\n'\n",
            "            '    def __init__(self):\\n'\n",
            "            '        self.stack = []\\n'\n",
            "            '        self.minStack = []\\n'\n",
            "            '        \\n'\n",
            "            '    def push(self, x: int) -> None:\\n'\n",
            "            '        self.stack.append(x)\\n'\n",
            "            '        if not self.minStack or x <= self.minStack[-1]:\\n'\n",
            "            '            self.minStack.append(x)\\n'\n",
            "            '            \\n'\n",
            "            '    def pop(self) -> None:\\n'\n",
            "            '        if not self.stack:\\n'\n",
            "            '            return\\n'\n",
            "            '        if self.stack[-1] == self.minStack[-1]:\\n'\n",
            "            '            self.minStack.pop()\\n'\n",
            "            '        self.stack.pop()\\n'\n",
            "            '        \\n'\n",
            "            '    def getMin(self) -> int:\\n'\n",
            "            '        if not self.minStack:\\n'\n",
            "            '            return None\\n'\n",
            "            '        return self.minStack[-1]\\n'\n",
            "            '```\\n',\n",
            "  'thoughts': '\\n'\n",
            "              'The task requires implementing a Stack with constant time '\n",
            "              'operations including finding minimum. \\n'\n",
            "              'To achieve O(1) for getMin(), we need to maintain a second '\n",
            "              'stack that keeps track of minimums.\\n'\n",
            "              'Each time we push, if the value is smaller than current min, we '\n",
            "              'add it to minStack.\\n'\n",
            "              'When we pop, if the popped value equals current min, we also '\n",
            "              'pop from minStack.\\n'},\n",
            " {'result': '\\n'\n",
            "            '```python\\n'\n",
            "            'from typing import List\\n'\n",
            "            '\\n'\n",
            "            'class MinStack:\\n'\n",
            "            '    \"\"\"A stack that supports push, pop, and getting minimum '\n",
            "            'element in O(1) time.\"\"\"\\n'\n",
            "            '    \\n'\n",
            "            '    def __init__(self):\\n'\n",
            "            '        \"\"\"Initialize empty stack with two internal lists.\"\"\"\\n'\n",
            "            '        self.stack: List[int] = []\\n'\n",
            "            '        self.minStack: List[int] = []\\n'\n",
            "            '        \\n'\n",
            "            '    def push(self, x: int) -> None:\\n'\n",
            "            '        \"\"\"\\n'\n",
            "            '        Push element onto stack and update minimum stack.\\n'\n",
            "            '        Args:\\n'\n",
            "            '            x: Integer to push onto stack\\n'\n",
            "            '        Raises:\\n'\n",
            "            '            TypeError: If x is not an integer\\n'\n",
            "            '        \"\"\"\\n'\n",
            "            '        if not isinstance(x, int):\\n'\n",
            "            '            raise TypeError(\"Input must be an integer\")\\n'\n",
            "            '            \\n'\n",
            "            '        self.stack.append(x)\\n'\n",
            "            '        if not self.minStack or x <= self.minStack[-1]:\\n'\n",
            "            '            self.minStack.append(x)\\n'\n",
            "            '            \\n'\n",
            "            '    def pop(self) -> None:\\n'\n",
            "            '        \"\"\"\\n'\n",
            "            '        Remove top element from stack.\\n'\n",
            "            '        Raises:\\n'\n",
            "            '            IndexError: If stack is empty\\n'\n",
            "            '        \"\"\"\\n'\n",
            "            '        if not self.stack:\\n'\n",
            "            '            raise IndexError(\"Cannot pop from empty stack\")\\n'\n",
            "            '            \\n'\n",
            "            '        if self.stack[-1] == self.minStack[-1]:\\n'\n",
            "            '            self.minStack.pop()\\n'\n",
            "            '        self.stack.pop()\\n'\n",
            "            '        \\n'\n",
            "            '    def getMin(self) -> int:\\n'\n",
            "            '        \"\"\"\\n'\n",
            "            '        Get minimum element in stack.\\n'\n",
            "            '        Returns:\\n'\n",
            "            '            int: Minimum element in stack\\n'\n",
            "            '        Raises:\\n'\n",
            "            '            IndexError: If stack is empty\\n'\n",
            "            '        \"\"\"\\n'\n",
            "            '        if not self.minStack:\\n'\n",
            "            '            raise IndexError(\"Cannot get minimum from empty '\n",
            "            'stack\")\\n'\n",
            "            '        return self.minStack[-1]\\n'\n",
            "            '```\\n',\n",
            "  'thoughts': '\\n'\n",
            "              \"Based on the feedback, I'll improve the implementation by:\\n\"\n",
            "              '1. Adding proper error handling with exceptions\\n'\n",
            "              '2. Including type hints and documentation\\n'\n",
            "              '3. Adding input validation\\n'\n",
            "              '4. Maintaining the O(1) time complexity\\n'}]\n"
          ]
        }
      ]
    },
    {
      "cell_type": "code",
      "source": [],
      "metadata": {
        "id": "ZPAC9kGOo_ol"
      },
      "execution_count": null,
      "outputs": []
    }
  ]
}