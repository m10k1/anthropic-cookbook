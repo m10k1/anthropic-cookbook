{
 "cells": [
  {
   "cell_type": "markdown",
   "id": "d6df2f5d-e380-41d9-a5e2-668410f0a0de",
   "metadata": {},
   "source": [
    "# Multi-LLM ワークフローの基本\n",
    "\n",
    "３つのシンプルなマルチLLMワークフローを体験する\n",
    "これらはコストとレイテンシーをトレードオフにして、タスクのパフォーマンスを向上させる可能性があります\n",
    "\n",
    "1. プロンプトチェーン (Prompt-Chaining) タスクを一連のサブタスクに分解。前の結果に基づいて次のステップを作成する\n",
    "2. 並列化 (Parallelization) 独立したサブタスクを複数のLLMに分散し、同時処理を行う。\n",
    "3. ルーティング(Routing) 入力の特性に基づいて、特化されたLLMパスを動的に選択する。\n"
   ]
  },
  {
   "cell_type": "markdown",
   "id": "a691a12a-a6e5-4d1d-9503-6075acdc823f",
   "metadata": {},
   "source": []
  },
  {
   "cell_type": "code",
   "execution_count": null,
   "id": "0bdca367-5aeb-400d-b1f3-d305fd390ce1",
   "metadata": {},
   "outputs": [],
   "source": []
  },
  {
   "cell_type": "code",
   "execution_count": null,
   "id": "97bf710f-b0b2-4906-9080-e218a1cbfa76",
   "metadata": {},
   "outputs": [],
   "source": []
  }
 ],
 "metadata": {
  "kernelspec": {
   "display_name": "Python 3 (ipykernel)",
   "language": "python",
   "name": "python3"
  },
  "language_info": {
   "codemirror_mode": {
    "name": "ipython",
    "version": 3
   },
   "file_extension": ".py",
   "mimetype": "text/x-python",
   "name": "python",
   "nbconvert_exporter": "python",
   "pygments_lexer": "ipython3",
   "version": "3.10.11"
  }
 },
 "nbformat": 4,
 "nbformat_minor": 5
}
