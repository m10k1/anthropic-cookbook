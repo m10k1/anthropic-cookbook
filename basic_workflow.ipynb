{
  "cells": [
    {
      "cell_type": "markdown",
      "id": "d6df2f5d-e380-41d9-a5e2-668410f0a0de",
      "metadata": {
        "id": "d6df2f5d-e380-41d9-a5e2-668410f0a0de"
      },
      "source": [
        "# Multi-LLM ワークフローの基本\n",
        "\n",
        "３つのシンプルなマルチLLMワークフローを体験する\n",
        "これらはコストとレイテンシーをトレードオフにして、タスクのパフォーマンスを向上させる可能性があります\n",
        "\n",
        "1. プロンプトチェーン (Prompt-Chaining) タスクを一連のサブタスクに分解。前の結果に基づいて次のステップを作成する\n",
        "2. 並列化 (Parallelization) 独立したサブタスクを複数のLLMに分散し、同時処理を行う。\n",
        "3. ルーティング(Routing) 入力の特性に基づいて、特化されたLLMパスを動的に選択する。\n"
      ]
    },
    {
      "cell_type": "markdown",
      "id": "a691a12a-a6e5-4d1d-9503-6075acdc823f",
      "metadata": {
        "id": "a691a12a-a6e5-4d1d-9503-6075acdc823f"
      },
      "source": []
    },
    {
      "cell_type": "markdown",
      "source": [
        "まずはライブラリをインポート"
      ],
      "metadata": {
        "id": "0bdca367-5aeb-400d-b1f3-d305fd390ce1"
      },
      "id": "0bdca367-5aeb-400d-b1f3-d305fd390ce1"
    },
    {
      "cell_type": "code",
      "execution_count": 1,
      "id": "97bf710f-b0b2-4906-9080-e218a1cbfa76",
      "metadata": {
        "colab": {
          "base_uri": "https://localhost:8080/",
          "height": 366
        },
        "id": "97bf710f-b0b2-4906-9080-e218a1cbfa76",
        "outputId": "a00a6786-9a0c-4d26-9695-c90fc00c8f90"
      },
      "outputs": [
        {
          "output_type": "error",
          "ename": "ModuleNotFoundError",
          "evalue": "No module named 'util'",
          "traceback": [
            "\u001b[0;31m---------------------------------------------------------------------------\u001b[0m",
            "\u001b[0;31mModuleNotFoundError\u001b[0m                       Traceback (most recent call last)",
            "\u001b[0;32m<ipython-input-1-8584d35049c9>\u001b[0m in \u001b[0;36m<cell line: 3>\u001b[0;34m()\u001b[0m\n\u001b[1;32m      1\u001b[0m \u001b[0;32mfrom\u001b[0m \u001b[0mconcurrent\u001b[0m\u001b[0;34m.\u001b[0m\u001b[0mfutures\u001b[0m \u001b[0;32mimport\u001b[0m \u001b[0mThreadPoolExecutor\u001b[0m\u001b[0;34m\u001b[0m\u001b[0;34m\u001b[0m\u001b[0m\n\u001b[1;32m      2\u001b[0m \u001b[0;32mfrom\u001b[0m \u001b[0mtyping\u001b[0m \u001b[0;32mimport\u001b[0m \u001b[0mList\u001b[0m\u001b[0;34m,\u001b[0m \u001b[0mDict\u001b[0m\u001b[0;34m,\u001b[0m \u001b[0mCallable\u001b[0m\u001b[0;34m\u001b[0m\u001b[0;34m\u001b[0m\u001b[0m\n\u001b[0;32m----> 3\u001b[0;31m \u001b[0;32mfrom\u001b[0m \u001b[0mutil\u001b[0m \u001b[0;32mimport\u001b[0m \u001b[0mllm_call\u001b[0m\u001b[0;34m,\u001b[0m \u001b[0mextract_xml\u001b[0m\u001b[0;34m\u001b[0m\u001b[0;34m\u001b[0m\u001b[0m\n\u001b[0m",
            "\u001b[0;31mModuleNotFoundError\u001b[0m: No module named 'util'",
            "",
            "\u001b[0;31m---------------------------------------------------------------------------\u001b[0;32m\nNOTE: If your import is failing due to a missing package, you can\nmanually install dependencies using either !pip or !apt.\n\nTo view examples of installing some common dependencies, click the\n\"Open Examples\" button below.\n\u001b[0;31m---------------------------------------------------------------------------\u001b[0m\n"
          ],
          "errorDetails": {
            "actions": [
              {
                "action": "open_url",
                "actionText": "Open Examples",
                "url": "/notebooks/snippets/importing_libraries.ipynb"
              }
            ]
          }
        }
      ],
      "source": [
        "from concurrent.futures import ThreadPoolExecutor\n",
        "from typing import List, Dict, Callable\n",
        "from util import llm_call, extract_xml"
      ]
    },
    {
      "cell_type": "code",
      "source": [],
      "metadata": {
        "id": "AiMqK0onmVn7"
      },
      "id": "AiMqK0onmVn7",
      "execution_count": null,
      "outputs": []
    }
  ],
  "metadata": {
    "kernelspec": {
      "display_name": "Python 3 (ipykernel)",
      "language": "python",
      "name": "python3"
    },
    "language_info": {
      "codemirror_mode": {
        "name": "ipython",
        "version": 3
      },
      "file_extension": ".py",
      "mimetype": "text/x-python",
      "name": "python",
      "nbconvert_exporter": "python",
      "pygments_lexer": "ipython3",
      "version": "3.10.11"
    },
    "colab": {
      "provenance": []
    }
  },
  "nbformat": 4,
  "nbformat_minor": 5
}