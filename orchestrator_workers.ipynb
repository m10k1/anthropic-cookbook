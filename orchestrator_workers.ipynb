{
  "nbformat": 4,
  "nbformat_minor": 0,
  "metadata": {
    "colab": {
      "provenance": [],
      "authorship_tag": "ABX9TyMcXJY9v25Dy8QgDclpI3io",
      "include_colab_link": true
    },
    "kernelspec": {
      "name": "python3",
      "display_name": "Python 3"
    },
    "language_info": {
      "name": "python"
    }
  },
  "cells": [
    {
      "cell_type": "markdown",
      "metadata": {
        "id": "view-in-github",
        "colab_type": "text"
      },
      "source": [
        "<a href=\"https://colab.research.google.com/github/m10k1/anthropic-cookbook/blob/main/orchestrator_workers.ipynb\" target=\"_parent\"><img src=\"https://colab.research.google.com/assets/colab-badge.svg\" alt=\"Open In Colab\"/></a>"
      ]
    },
    {
      "cell_type": "code",
      "source": [
        "!pip install anthropic"
      ],
      "metadata": {
        "colab": {
          "base_uri": "https://localhost:8080/"
        },
        "id": "PQEVPVPUdddk",
        "outputId": "6267ee21-3503-46d5-8045-ffd5048cbd6d"
      },
      "execution_count": 1,
      "outputs": [
        {
          "output_type": "stream",
          "name": "stdout",
          "text": [
            "Collecting anthropic\n",
            "  Downloading anthropic-0.42.0-py3-none-any.whl.metadata (23 kB)\n",
            "Requirement already satisfied: anyio<5,>=3.5.0 in /usr/local/lib/python3.10/dist-packages (from anthropic) (3.7.1)\n",
            "Requirement already satisfied: distro<2,>=1.7.0 in /usr/local/lib/python3.10/dist-packages (from anthropic) (1.9.0)\n",
            "Requirement already satisfied: httpx<1,>=0.23.0 in /usr/local/lib/python3.10/dist-packages (from anthropic) (0.28.1)\n",
            "Requirement already satisfied: jiter<1,>=0.4.0 in /usr/local/lib/python3.10/dist-packages (from anthropic) (0.8.2)\n",
            "Requirement already satisfied: pydantic<3,>=1.9.0 in /usr/local/lib/python3.10/dist-packages (from anthropic) (2.10.4)\n",
            "Requirement already satisfied: sniffio in /usr/local/lib/python3.10/dist-packages (from anthropic) (1.3.1)\n",
            "Requirement already satisfied: typing-extensions<5,>=4.10 in /usr/local/lib/python3.10/dist-packages (from anthropic) (4.12.2)\n",
            "Requirement already satisfied: idna>=2.8 in /usr/local/lib/python3.10/dist-packages (from anyio<5,>=3.5.0->anthropic) (3.10)\n",
            "Requirement already satisfied: exceptiongroup in /usr/local/lib/python3.10/dist-packages (from anyio<5,>=3.5.0->anthropic) (1.2.2)\n",
            "Requirement already satisfied: certifi in /usr/local/lib/python3.10/dist-packages (from httpx<1,>=0.23.0->anthropic) (2024.12.14)\n",
            "Requirement already satisfied: httpcore==1.* in /usr/local/lib/python3.10/dist-packages (from httpx<1,>=0.23.0->anthropic) (1.0.7)\n",
            "Requirement already satisfied: h11<0.15,>=0.13 in /usr/local/lib/python3.10/dist-packages (from httpcore==1.*->httpx<1,>=0.23.0->anthropic) (0.14.0)\n",
            "Requirement already satisfied: annotated-types>=0.6.0 in /usr/local/lib/python3.10/dist-packages (from pydantic<3,>=1.9.0->anthropic) (0.7.0)\n",
            "Requirement already satisfied: pydantic-core==2.27.2 in /usr/local/lib/python3.10/dist-packages (from pydantic<3,>=1.9.0->anthropic) (2.27.2)\n",
            "Downloading anthropic-0.42.0-py3-none-any.whl (203 kB)\n",
            "\u001b[2K   \u001b[90m━━━━━━━━━━━━━━━━━━━━━━━━━━━━━━━━━━━━━━━━\u001b[0m \u001b[32m203.4/203.4 kB\u001b[0m \u001b[31m3.9 MB/s\u001b[0m eta \u001b[36m0:00:00\u001b[0m\n",
            "\u001b[?25hInstalling collected packages: anthropic\n",
            "Successfully installed anthropic-0.42.0\n"
          ]
        }
      ]
    },
    {
      "cell_type": "code",
      "source": [
        "from google.colab import drive\n",
        "mount_path = '/content/drive'\n",
        "drive.mount(mount_path)\n",
        "\n",
        "import os\n",
        "import sys\n",
        "sys.path.append(os.path.join(mount_path,'MyDrive/python'))\n"
      ],
      "metadata": {
        "colab": {
          "base_uri": "https://localhost:8080/"
        },
        "id": "rPn6-zhKdfQF",
        "outputId": "0c635f2e-ff16-47da-d4bd-d5fbd097db95"
      },
      "execution_count": 2,
      "outputs": [
        {
          "output_type": "stream",
          "name": "stdout",
          "text": [
            "Mounted at /content/drive\n"
          ]
        }
      ]
    },
    {
      "cell_type": "code",
      "source": [
        "from google.colab import userdata\n",
        "os.environ[\"ANTHROPIC_API_KEY\"] = userdata.get('ANTHROPIC_API_KEY')"
      ],
      "metadata": {
        "id": "2QTxjL4Ddhpd"
      },
      "execution_count": 3,
      "outputs": []
    },
    {
      "cell_type": "code",
      "source": [
        "from concurrent.futures import ThreadPoolExecutor\n",
        "from typing import List, Dict, Optional\n",
        "from util import llm_call, extract_xml"
      ],
      "metadata": {
        "id": "WcQ0dcqPdjoo"
      },
      "execution_count": 7,
      "outputs": []
    },
    {
      "cell_type": "markdown",
      "source": [
        "# Orchestrator-Workers Workflow\n",
        "\n",
        "このワークフローでは中央LLMが動的にタスクをブレイクダウンして、タスクをワーカーLLMへ委譲します。そしてその結果を合成します。\n",
        "\n",
        "## このワークフローの使いどころ\n",
        "\n",
        "このワークフローは、必要なサブタスクが予測できない複雑なタスクに適している。\n",
        "\n",
        "単純な並列化との決定的な違いは、その柔軟性です。サブタスクは事前に定義されているのではなく、特定の入力に基づいてオーケストレーターが決定します。\n",
        "\n",
        "\n",
        "![Orchestrator-workers](https://www.anthropic.com/_next/image?url=https%3A%2F%2Fwww-cdn.anthropic.com%2Fimages%2F4zrzovbb%2Fwebsite%2F8985fc683fae4780fb34eab1365ab78c7e51bc8e-2401x1000.png&w=3840&q=75)\n",
        "\n"
      ],
      "metadata": {
        "id": "_ZrCqGPs1dOX"
      }
    },
    {
      "cell_type": "markdown",
      "source": [
        "結果のXMLを解析するためのパーサー\n",
        "タスクの配列を返す\n"
      ],
      "metadata": {
        "id": "X-YuMQZxjU2D"
      }
    },
    {
      "cell_type": "code",
      "source": [
        "def parse_tasks(tasks_xml: str) -> List[Dict]:\n",
        "    \"\"\"Parse XML tasks into a list of task dictionaries.\"\"\"\n",
        "    tasks = []\n",
        "    current_task = {}\n",
        "\n",
        "    for line in tasks_xml.split('\\n'):\n",
        "        line = line.strip()\n",
        "        if not line:\n",
        "            continue\n",
        "\n",
        "        if line.startswith(\"<task>\"):\n",
        "            current_task = {}\n",
        "        elif line.startswith(\"<type>\"):\n",
        "            current_task[\"type\"] = line[6:-7].strip()\n",
        "        elif line.startswith(\"<description>\"):\n",
        "            current_task[\"description\"] = line[12:-13].strip()\n",
        "        elif line.startswith(\"</task>\"):\n",
        "            if \"description\" in current_task:\n",
        "                if \"type\" not in current_task:\n",
        "                    current_task[\"type\"] = \"default\"\n",
        "                tasks.append(current_task)\n",
        "\n",
        "    return tasks"
      ],
      "metadata": {
        "id": "6wffh3sRduDw"
      },
      "execution_count": 8,
      "outputs": []
    },
    {
      "cell_type": "code",
      "execution_count": 9,
      "metadata": {
        "id": "45vTwnc01aFt"
      },
      "outputs": [],
      "source": [
        "class FlexibleOrchestrator:\n",
        "    \"\"\"Break down tasks and run them in parallel using worker LLMs.\"\"\"\n",
        "\n",
        "    def __init__(\n",
        "        self,\n",
        "        orchestrator_prompt: str,\n",
        "        worker_prompt: str,\n",
        "    ):\n",
        "        \"\"\"\n",
        "        プロンプトのテンプレートを初期化する\n",
        "        \"\"\"\n",
        "        self.orchestrator_prompt = orchestrator_prompt\n",
        "        self.worker_prompt = worker_prompt\n",
        "\n",
        "    def _format_prompt(self, template: str, **kwargs) -> str:\n",
        "        \"\"\"\n",
        "        テンプレートに値を流し込んでプロンプトを作成\n",
        "        \"\"\"\n",
        "        try:\n",
        "            return template.format(**kwargs)\n",
        "        except KeyError as e:\n",
        "            raise ValueError(f\"Missing required prompt variable: {e}\")\n",
        "\n",
        "    def process(self, task: str, context: Optional[Dict] = None) -> Dict:\n",
        "        \"\"\"\n",
        "        ブレイクダウンしてタスクを処理する。\n",
        "        サブタスクは並列に実行される。\n",
        "        Process task by breaking it down and running subtasks in parallel.\n",
        "\n",
        "        \"\"\"\n",
        "        context = context or {}\n",
        "\n",
        "        # Step 1: Get orchestrator response\n",
        "        # オーケストレイターのレスポンスを取得\n",
        "\n",
        "        orchestrator_input = self._format_prompt(\n",
        "            self.orchestrator_prompt,\n",
        "            task=task,\n",
        "            **context\n",
        "        )\n",
        "        orchestrator_response = llm_call(orchestrator_input)\n",
        "\n",
        "        # オーケストレイターの応答を処理\n",
        "        analysis = extract_xml(orchestrator_response, \"analysis\")\n",
        "        tasks_xml = extract_xml(orchestrator_response, \"tasks\")\n",
        "        tasks = parse_tasks(tasks_xml)\n",
        "\n",
        "        print(\"\\n=== ORCHESTRATOR OUTPUT ===\")\n",
        "        print(f\"\\nANALYSIS:\\n{analysis}\")\n",
        "        print(f\"\\nTASKS:\\n{tasks}\")\n",
        "\n",
        "        # Step 2: タスクそれぞれを処理\n",
        "        worker_results = []\n",
        "        for task_info in tasks:\n",
        "            worker_input = self._format_prompt(\n",
        "                self.worker_prompt,\n",
        "                original_task=task,\n",
        "                task_type=task_info['type'],\n",
        "                task_description=task_info['description'],\n",
        "                **context\n",
        "            )\n",
        "\n",
        "            worker_response = llm_call(worker_input)\n",
        "            result = extract_xml(worker_response, \"response\")\n",
        "\n",
        "            worker_results.append({\n",
        "                \"type\": task_info[\"type\"],\n",
        "                \"description\": task_info[\"description\"],\n",
        "                \"result\": result\n",
        "            })\n",
        "\n",
        "            print(f\"\\n=== WORKER RESULT ({task_info['type']}) ===\\n{result}\\n\")\n",
        "\n",
        "        return {\n",
        "            \"analysis\": analysis,\n",
        "            \"worker_results\": worker_results,\n",
        "        }"
      ]
    },
    {
      "cell_type": "markdown",
      "source": [
        "## 使用例： マーケティングバリエーション生成\n",
        "\n",
        "プロンプ ： オーケストレーター\n",
        "\n",
        "```\n",
        "このタスクを分析し、2-3の明確なアプローチに分けなさい：\n",
        "\n",
        "タスク {タスク｝\n",
        "\n",
        "この形式で回答を返してください：\n",
        "\n",
        "<analysis>\n",
        "タスクに対するあなたの理解と、どのバリエーションが価値があるかを説明してください。\n",
        "各アプローチがタスクの異なる側面にどのように役立つかに注目してください。\n",
        "</analysis>\n",
        "\n",
        "<tasks>\n",
        "    <task>\n",
        "    <type>フォーマル</type>\n",
        "      <description>仕様を強調した正確で技術的なバージョンを書く</description>。\n",
        "      </task>\n",
        "    <task>\n",
        "      <type>会話型</type>\n",
        "      <description>読者とつながる、魅力的でフレンドリーなバージョンを書く</description>\n",
        "    </task>\n",
        "</tasks>\n",
        "```"
      ],
      "metadata": {
        "id": "srm58JLOeNkU"
      }
    },
    {
      "cell_type": "markdown",
      "source": [],
      "metadata": {
        "id": "DSlZeu5Oea_e"
      }
    },
    {
      "cell_type": "code",
      "source": [
        "ORCHESTRATOR_PROMPT = \"\"\"\n",
        "Analyze this task and break it down into 2-3 distinct approaches:\n",
        "\n",
        "Task: {task}\n",
        "\n",
        "Return your response in this format:\n",
        "\n",
        "<analysis>\n",
        "Explain your understanding of the task and which variations would be valuable.\n",
        "Focus on how each approach serves different aspects of the task.\n",
        "</analysis>\n",
        "\n",
        "<tasks>\n",
        "    <task>\n",
        "    <type>formal</type>\n",
        "    <description>Write a precise, technical version that emphasizes specifications</description>\n",
        "    </task>\n",
        "    <task>\n",
        "    <type>conversational</type>\n",
        "    <description>Write an engaging, friendly version that connects with readers</description>\n",
        "    </task>\n",
        "</tasks>\n",
        "\"\"\"\n",
        "\n"
      ],
      "metadata": {
        "id": "CjF5ISQbeLsw"
      },
      "execution_count": 10,
      "outputs": []
    },
    {
      "cell_type": "markdown",
      "source": [
        "ワーカープロンプトの中身\n",
        "```\n",
        "次に基づいてコンテンツを生成する：\n",
        "タスク： {original_task｝\n",
        "スタイル {task_type}\n",
        "ガイドライン {task_description}\n",
        "\n",
        "この形式で応答を返します：\n",
        "\n",
        "<response>\n",
        "指定されたスタイルを維持し、要件に完全に対応した内容をここに記述してください。\n",
        "</response>\n",
        "```"
      ],
      "metadata": {
        "id": "4qwDjTzyffHd"
      }
    },
    {
      "cell_type": "code",
      "source": [
        "WORKER_PROMPT = \"\"\"\n",
        "Generate content based on:\n",
        "Task: {original_task}\n",
        "Style: {task_type}\n",
        "Guidelines: {task_description}\n",
        "\n",
        "Return your response in this format:\n",
        "\n",
        "<response>\n",
        "Your content here, maintaining the specified style and fully addressing requirements.\n",
        "</response>\n",
        "\"\"\""
      ],
      "metadata": {
        "id": "mD48avL7ehPX"
      },
      "execution_count": 11,
      "outputs": []
    },
    {
      "cell_type": "markdown",
      "source": [
        "プロンプトの実行\n",
        "```\n",
        "ここでは、タスクを\"新しい環境にやさしい水筒の商品説明を書く\"\n",
        "コンテキストは\n",
        "対象オーディエンス： 環境に敏感なミレニアル世代\n",
        "キーとなる特長: プラスチックフリー、断熱、永久保証\n",
        "```"
      ],
      "metadata": {
        "id": "dm2tAjEWf7mU"
      }
    },
    {
      "cell_type": "code",
      "source": [
        "orchestrator = FlexibleOrchestrator(\n",
        "    orchestrator_prompt=ORCHESTRATOR_PROMPT,\n",
        "    worker_prompt=WORKER_PROMPT,\n",
        ")\n",
        "\n",
        "results = orchestrator.process(\n",
        "    task=\"Write a product description for a new eco-friendly water bottle\",\n",
        "    context={\n",
        "        \"target_audience\": \"environmentally conscious millennials\",\n",
        "        \"key_features\": [\"plastic-free\", \"insulated\", \"lifetime warranty\"]\n",
        "    }\n",
        ")"
      ],
      "metadata": {
        "colab": {
          "base_uri": "https://localhost:8080/"
        },
        "id": "7lPXm4K1f3Y-",
        "outputId": "b1a7abc6-a499-4b82-ad78-5acaa885c36e"
      },
      "execution_count": 12,
      "outputs": [
        {
          "output_type": "stream",
          "name": "stdout",
          "text": [
            "\n",
            "=== ORCHESTRATOR OUTPUT ===\n",
            "\n",
            "ANALYSIS:\n",
            "\n",
            "This task requires creating marketing copy for an eco-friendly water bottle, which presents multiple angles for effective communication. The key challenge is balancing environmental benefits with practical features while maintaining appeal to different consumer segments.\n",
            "\n",
            "Key variations would be valuable because:\n",
            "1. Technical buyers need specific details about materials and environmental impact\n",
            "2. Lifestyle-focused consumers respond better to emotional benefits and storytelling\n",
            "3. Different tones can target distinct market segments while promoting the same core product\n",
            "\n",
            "The technical approach serves those who make purchase decisions based on specifications and measurable impact, while the conversational approach connects with those who buy based on lifestyle alignment and emotional resonance.\n",
            "\n",
            "\n",
            "TASKS:\n",
            "[{'type': 'formal', 'description': '>Create a specification-focused description highlighting material composition, environmental certifications, capacity measurements, and quantifiable eco-impact (e.g., \"plastic bottles saved per year\"). Include technical details about manufacturing process and recycling capabilities.<'}, {'type': 'conversational', 'description': '>Develop a narrative-style description that emphasizes lifestyle benefits, emotional connection to environmental protection, and relatable daily use scenarios. Focus on how the bottle fits into an eco-conscious lifestyle and makes the user feel good about their environmental impact.<'}, {'type': 'hybrid', 'description': '>Combine emotional appeal with key specifications in a balanced approach that educates while inspiring. Use relatable examples to explain technical features and include both statistical impact and storytelling elements.<'}]\n",
            "\n",
            "=== WORKER RESULT (formal) ===\n",
            "\n",
            "Introducing the EcoVessel Pro Series: A precision-engineered hydration solution crafted from 100% post-consumer recycled stainless steel, certified by the Global Recycled Standard (GRS).\n",
            "\n",
            "Technical Specifications:\n",
            "• Capacity: 750ml / 25.4 fl oz\n",
            "• Material: 18/8 food-grade recycled stainless steel (304 grade)\n",
            "• Wall Construction: Double-walled vacuum insulation\n",
            "• Temperature Retention: 24 hours cold / 12 hours hot\n",
            "• Weight: 340g / 12 oz (empty)\n",
            "\n",
            "Environmental Certifications:\n",
            "• Carbon Neutral Certified (Climate Partner verified)\n",
            "• BPA-free certification from NSF International\n",
            "• ISO 14001 Environmental Management compliance\n",
            "\n",
            "Manufacturing Process:\n",
            "Manufactured using hydroelectric power in our carbon-neutral facility, utilizing a proprietary low-impact metal forming process that reduces energy consumption by 35% compared to traditional methods. Each unit undergoes a 12-point quality inspection ensuring structural integrity and insulation performance.\n",
            "\n",
            "Environmental Impact Metrics:\n",
            "• Eliminates approximately 167 single-use plastic bottles annually (based on average daily use)\n",
            "• 87% lower carbon footprint compared to traditional steel bottle production\n",
            "• 100% recyclable at end-of-life through our closed-loop recycling program\n",
            "• Manufacturing process saves 2.3 gallons of water per unit compared to industry standard\n",
            "\n",
            "The bottle features a precision-engineered leak-proof cap with aerospace-grade threading and a medical-grade silicone seal. The exterior features a proprietary powder coating derived from natural minerals, ensuring durability while maintaining full recyclability.\n",
            "\n",
            "End-of-Life Sustainability:\n",
            "Through our product stewardship program, each bottle can be returned for complete recycling, where materials are reintegrated into our manufacturing stream with zero waste, maintaining the circular economy principles that define our commitment to environmental responsibility.\n",
            "\n",
            "\n",
            "\n",
            "=== WORKER RESULT (conversational) ===\n",
            "\n",
            "Hey there, eco-warrior! Let me tell you about your new favorite companion in the fight against plastic waste - the GreenFlow Vessel.\n",
            "\n",
            "You know that guilty feeling when you're grabbing yet another disposable water bottle at the store? Well, kiss those days goodbye! This isn't just another water bottle; it's your personal statement piece that says, \"Yeah, I care about our planet, and I look good doing it!\"\n",
            "\n",
            "Made from ultra-durable recycled stainless steel, your GreenFlow Vessel keeps your morning smoothie cold for 24 hours or your afternoon tea toasty for 12. But here's the real feel-good part: each bottle saves roughly 1,460 plastic bottles from entering our oceans every year. Just imagine - that's your personal contribution to keeping our marine friends swimming in cleaner waters!\n",
            "\n",
            "The sleek, minimalist design fits perfectly in your gym bag, bike holder, or car cup holder. Whether you're crushing it at yoga, powering through meetings, or exploring hiking trails, this bottle moves seamlessly through your day. The wide-mouth opening means you can easily add ice cubes or give it a thorough clean (because nobody likes that forgotten-water-bottle funk).\n",
            "\n",
            "Here's what I love most: every time you fill up your GreenFlow, you're part of a bigger story. Each bottle comes with a unique code that lets you track your personal impact - from water saved to plastic prevented. It's like having a little environmental superhero sidekick with you all day!\n",
            "\n",
            "Ready to make hydration an act of environmental love? Your new sustainable sidekick is waiting to join your daily adventures and help you make every sip count toward a greener future.\n",
            "\n",
            "\n",
            "\n",
            "=== WORKER RESULT (hybrid) ===\n",
            "\n",
            "Meet the AquaEco Pro - Where Environmental Impact Meets Everyday Innovation\n",
            "\n",
            "Imagine preventing 1,460 plastic bottles from entering our oceans every year. That's exactly what happens when you make the switch to the AquaEco Pro, your new companion in sustainable hydration.\n",
            "\n",
            "Crafted from aerospace-grade recycled stainless steel, this 24oz powerhouse doesn't just carry water – it carries a promise. Each bottle repurposes materials that would otherwise contribute to landfill waste, while our proprietary ThermaLock™ technology keeps your beverages cold for 24 hours or hot for 12 hours, perfect for both your morning coffee and afternoon workout.\n",
            "\n",
            "The real magic lies in the details:\n",
            "• Double-wall vacuum insulation (think: a tiny force field protecting your drink's temperature)\n",
            "• BPA-free construction with zero plastic components\n",
            "• Leak-proof AutoSeal™ lid system that you can operate with one hand\n",
            "• Condensation-free exterior that won't sweat in your bag\n",
            "\n",
            "But numbers tell only part of the story. Like Sarah, a marathon runner who used to go through dozens of plastic bottles during training, you'll appreciate how the ergonomic design fits perfectly in standard cup holders and bike cages. The wide-mouth opening welcomes ice cubes and makes cleaning a breeze, while the powder-coated exterior resists chips and scratches through your daily adventures.\n",
            "\n",
            "By choosing the AquaEco Pro, you're not just buying a water bottle – you're joining a community that has collectively prevented over 50 million single-use plastics from entering our ecosystems. Each bottle comes with our lifetime warranty and plants one tree through our partnership with global reforestation projects.\n",
            "\n",
            "Available in six Earth-inspired colors, the AquaEco Pro isn't just sustainable – it's sustainably stunning.\n",
            "\n",
            "Make every sip count. For you, and for our planet.\n",
            "\n",
            "\n"
          ]
        }
      ]
    },
    {
      "cell_type": "code",
      "source": [
        "results"
      ],
      "metadata": {
        "id": "jmmHomtJgk7z"
      },
      "execution_count": null,
      "outputs": []
    },
    {
      "cell_type": "markdown",
      "source": [
        "## 出力結果\n",
        "\n",
        "\n",
        "***形式的な説明 (formal):** 素材の構成、環境認証、容量の測定、数値で示される環境への影響（例：「年間で削減されるペットボトルの本数」）を強調した仕様重視の説明を作成する。製造プロセスやリサイクル能力についての技術的な詳細を含める。\n",
        "\n",
        "**会話調の説明 (conversational):** ライフスタイルの利点、環境保護への感情的な結びつき、日常的な使用シナリオを強調したナラティブスタイルの説明を開発する。エコ意識のあるライフスタイルにどのように適合し、環境への貢献についてユーザーに良い気持ちを与えるかに焦点を当てる。\n",
        "\n",
        "**ハイブリッド (hybrid):** 感情的な訴求と重要な仕様をバランスよく組み合わせたアプローチで説明を作成する。技術的な特徴を説明するために関連性のある例を使用し、統計的な影響とストーリー要素を含む。\n",
        "\n",
        "\n",
        "\n"
      ],
      "metadata": {
        "id": "Dqod8MetiMEe"
      }
    }
  ]
}